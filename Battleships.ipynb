{
 "cells": [
  {
   "cell_type": "code",
   "execution_count": 69,
   "metadata": {},
   "outputs": [],
   "source": [
    "from scipy.signal import convolve2d\n",
    "import numpy as np\n",
    "import matplotlib.pyplot as plt\n",
    "from random import randint\n",
    "%matplotlib inline\n",
    "# 3 Storage channels:\n",
    "# Grid\n",
    "# Ships Container\n",
    "# Hit Grid"
   ]
  },
  {
   "cell_type": "code",
   "execution_count": 120,
   "metadata": {},
   "outputs": [],
   "source": [
    "class Ships:\n",
    "\n",
    "    def __init__(self,grid):\n",
    "        grid = np.array(grid)\n",
    "        y,x = grid.shape\n",
    "        self.grid = np.zeros([y,x])\n",
    "        self.ships = []\n",
    "        self.omap = np.where(grid ==0 ,1,0)\n",
    "        \n",
    "    def rand_ship(self,l):\n",
    "        n = 0\n",
    "        my, mx = self.omap.shape \n",
    "        mx -= 1\n",
    "        my -= 1\n",
    "        \n",
    "        x = randint(0,mx)\n",
    "        y = randint(0,my)\n",
    "        o = randint(0,1)\n",
    "        while not self.add_ship(x,y,l,o):\n",
    "            n += 1\n",
    "            x = randint(0,mx)\n",
    "            y = randint(0,my)\n",
    "            o = randint(0,1)\n",
    "            if n > 100:\n",
    "                print(\"error\")\n",
    "                break\n",
    "    def add_ship(self,x,y,l,isVertical = True,verbose = False):\n",
    "        nship = {}\n",
    "        nship[\"idx\"] = len(self.ships) + 1\n",
    "        #map + grid = the combined map to check for collisions\n",
    "        combi = self.omap + self.grid\n",
    "        isCollide = False\n",
    "        yn = y\n",
    "        xn = x\n",
    "        print(x,\",\",y)\n",
    "        try:\n",
    "            for i in range(l):\n",
    "                if combi[yn][xn] != 0:\n",
    "                    isCollide = True\n",
    "                    break\n",
    "                if isVertical:\n",
    "                    yn += 1\n",
    "                else:\n",
    "                    xn += 1\n",
    "        except:\n",
    "            return False\n",
    "        #if everything is fine then add to data\n",
    "        if not isCollide:\n",
    "            nship[\"l\"] = l\n",
    "            nship[\"sunk\"] = False\n",
    "            #populate ship grid\n",
    "            for i in range(l):\n",
    "                self.grid[y][x] = nship[\"idx\"]\n",
    "                if isVertical:\n",
    "                    y += 1\n",
    "                else:\n",
    "                    x += 1\n",
    "            x\n",
    "            self.ships.append(nship)\n",
    "            return True\n",
    "        else:\n",
    "            if verbose:\n",
    "                print(\"Could Not add ship due to collision\")\n",
    "            return False\n",
    "\n",
    "    def get_mask(self):\n",
    "        #Generator function to return a dynamic mask\n",
    "        return [i[\"l\"] for i in self.ships if not i[\"sunk\"]]\n",
    "\n",
    "    def checkHit(self,x,y,testonly=False):\n",
    "        if self.grid[y][x] != 0:\n",
    "            #Its a hit.\n",
    "            if not testonly:\n",
    "                self.grid[y][x] = 0\n",
    "                self.updateShipfromgrid()\n",
    "            return True\n",
    "        else:\n",
    "            return False\n",
    "            \n",
    "    def updateShipfromgrid(self):\n",
    "        for i in self.ships:\n",
    "            if i.sunk:\n",
    "                continue\n",
    "            if np.sum(np.where(self.grid == i.l,1,0)) == 0:\n",
    "                i.sunk = True\n",
    "\n",
    "    def get_map(self):\n",
    "        return self.grid"
   ]
  },
  {
   "cell_type": "code",
   "execution_count": 121,
   "metadata": {},
   "outputs": [],
   "source": [
    "def positional_grid(gmap,gmask):\n",
    "    mask = np.ones([gmask,1])\n",
    "    grid = np.array(gmap)\n",
    "    mask = np.array(mask)\n",
    "    res = np.where(convolve2d(grid,mask,\"full\") == np.sum(mask),1,0)\n",
    "    res = res[(mask.shape[0] - 1):,(mask.shape[1] - 1):]\n",
    "    mask2 = np.transpose(mask)\n",
    "    res2 = np.where(convolve2d(grid,mask2,\"full\") == np.sum(mask2),1,0)\n",
    "    res2 = res2[(mask2.shape[0] - 1):,(mask2.shape[1] - 1):]\n",
    "    return res + res2\n",
    "\n",
    "def proc_Hitgrid(gmap,gHit,gmask,hitweight = 5):\n",
    "    gmap = np.array(gmap)\n",
    "    gHit = np.array(gHit)\n",
    "    mask = np.array(np.ones([gmask,1]))\n",
    "\n",
    "    #overlay the hit mask with the grid mask\n",
    "    grid = gmap + (gHit * hitweight)\n",
    "\n",
    "    #vertical and horizontal\n",
    "    res = np.where(convolve2d(grid,mask,\"full\") == np.sum(mask),1,0)\n",
    "    res = res[(mask.shape[0] - 1):,(mask.shape[1] - 1):]\n",
    "    mask2 = np.transpose(mask)\n",
    "    res2 = np.where(convolve2d(grid,mask2,\"full\") == np.sum(mask2),1,0)\n",
    "    res2 = res2[(mask2.shape[0] - 1):,(mask2.shape[1] - 1):]\n",
    "\n",
    "    final = res + res2\n",
    "\n",
    "    #remove the original Hitmask\n",
    "    remHit = np.where(np.array(gHit) == 1,0,1)\n",
    "    \n",
    "    \n",
    "    return np.multiply(remHit, final)\n",
    "\n",
    "\n",
    "def Checkhit(x,y,gmap,ghit):\n",
    "    # if the ship exists\n",
    "    if Lships.checkHit(x,y):\n",
    "        ghit[y][x] = 1\n",
    "        \n",
    "    \n",
    "\n",
    "\n",
    "\n",
    "def visGrid(grid):\n",
    "    plt.figure()\n",
    "    plt.imshow(grid,cmap='gray')\n",
    "    plt.grid(True,color='blue')\n",
    "    plt.draw()\n",
    "    "
   ]
  },
  {
   "cell_type": "code",
   "execution_count": 122,
   "metadata": {},
   "outputs": [
    {
     "name": "stdout",
     "output_type": "stream",
     "text": [
      "1 , 0\n",
      "2 , 0\n",
      "2 , 0\n",
      "4 , 2\n",
      "1 , 1\n",
      "2 , 3\n",
      "4 , 2\n",
      "1 , 4\n",
      "4 , 3\n",
      "1 , 1\n",
      "3 , 2\n",
      "[[ 0.  0.  0.  0.  0.]\n",
      " [ 0.  2.  2.  0.  0.]\n",
      " [ 0.  0.  0.  4.  1.]\n",
      " [ 0.  0.  3.  3.  1.]\n",
      " [ 0.  0.  0.  0.  1.]]\n",
      "4\n"
     ]
    },
    {
     "data": {
      "image/png": "[encoded data removed]",
      "text/plain": [
       "<Figure size 432x288 with 1 Axes>"
      ]
     },
     "metadata": {},
     "output_type": "display_data"
    },
    {
     "data": {
      "image/png": "[encoded data removed]",
      "text/plain": [
       "<Figure size 432x288 with 1 Axes>"
      ]
     },
     "metadata": {},
     "output_type": "display_data"
    }
   ],
   "source": [
    "#def hitgrid(activehit,)\n",
    "grid = [[0, 1, 0, 0, 1],\n",
    "        [1, 1, 1, 1, 1], \n",
    "        [1, 1, 1, 1, 1], \n",
    "        [1, 1, 1, 1, 1],\n",
    "        [1, 0, 1, 1, 1]]\n",
    "\n",
    "Lships = Ships(grid)\n",
    "Lships.rand_ship(3)\n",
    "Lships.rand_ship(2)\n",
    "Lships.rand_ship(2)\n",
    "Lships.rand_ship(1)\n",
    "print(Lships.get_map())\n",
    "visGrid(Lships.get_map())\n",
    "print(len(Lships.ships))\n",
    "visGrid(grid)\n"
   ]
  },
  {
   "cell_type": "code",
   "execution_count": 123,
   "metadata": {},
   "outputs": [
    {
     "name": "stdout",
     "output_type": "stream",
     "text": [
      "[3, 2, 2, 1]\n"
     ]
    }
   ],
   "source": [
    "print(Lships.get_mask())"
   ]
  },
  {
   "cell_type": "code",
   "execution_count": 125,
   "metadata": {},
   "outputs": [
    {
     "data": {
      "image/png": "[encoded data removed]",
      "text/plain": [
       "<Figure size 432x288 with 1 Axes>"
      ]
     },
     "metadata": {},
     "output_type": "display_data"
    },
    {
     "data": {
      "image/png": "[encoded data removed]",
      "text/plain": [
       "<Figure size 432x288 with 1 Axes>"
      ]
     },
     "metadata": {},
     "output_type": "display_data"
    },
    {
     "data": {
      "image/png": "[encoded data removed]",
      "text/plain": [
       "<Figure size 432x288 with 1 Axes>"
      ]
     },
     "metadata": {},
     "output_type": "display_data"
    }
   ],
   "source": [
    "res = sum([positional_grid(grid,i) for i in Lships.get_mask()])\n",
    "visGrid(res)\n",
    "\n",
    "visGrid(grid)\n",
    "visGrid(Lships.get_map())"
   ]
  },
  {
   "cell_type": "code",
   "execution_count": 132,
   "metadata": {},
   "outputs": [
    {
     "name": "stdout",
     "output_type": "stream",
     "text": [
      "[[0 5 0 0 5]\n",
      " [8 8 8 7 5]\n",
      " [8 7 8 7 5]\n",
      " [7 5 7 6 4]\n",
      " [2 0 5 4 2]]\n"
     ]
    }
   ],
   "source": [
    "print(res)"
   ]
  },
  {
   "cell_type": "code",
   "execution_count": 143,
   "metadata": {},
   "outputs": [
    {
     "name": "stdout",
     "output_type": "stream",
     "text": [
      "1 0\n"
     ]
    }
   ],
   "source": [
    "i,j = np.unravel_index(res.argmax(), res.shape)\n",
    "print(i,j)"
   ]
  },
  {
   "cell_type": "code",
   "execution_count": null,
   "metadata": {},
   "outputs": [],
   "source": []
  },
  {
   "cell_type": "code",
   "execution_count": null,
   "metadata": {},
   "outputs": [],
   "source": []
  },
  {
   "cell_type": "code",
   "execution_count": null,
   "metadata": {},
   "outputs": [],
   "source": []
  },
  {
   "cell_type": "code",
   "execution_count": null,
   "metadata": {},
   "outputs": [],
   "source": []
  },
  {
   "cell_type": "code",
   "execution_count": null,
   "metadata": {},
   "outputs": [],
   "source": []
  },
  {
   "cell_type": "code",
   "execution_count": null,
   "metadata": {},
   "outputs": [],
   "source": []
  },
  {
   "cell_type": "code",
   "execution_count": null,
   "metadata": {},
   "outputs": [],
   "source": []
  },
  {
   "cell_type": "code",
   "execution_count": null,
   "metadata": {},
   "outputs": [],
   "source": []
  },
  {
   "cell_type": "code",
   "execution_count": null,
   "metadata": {},
   "outputs": [],
   "source": []
  },
  {
   "cell_type": "code",
   "execution_count": null,
   "metadata": {},
   "outputs": [],
   "source": []
  },
  {
   "cell_type": "code",
   "execution_count": null,
   "metadata": {},
   "outputs": [],
   "source": []
  }
 ],
 "metadata": {
  "kernelspec": {
   "display_name": "Python 3",
   "language": "python",
   "name": "python3"
  },
  "language_info": {
   "codemirror_mode": {
    "name": "ipython",
    "version": 3
   },
   "file_extension": ".py",
   "mimetype": "text/x-python",
   "name": "python",
   "nbconvert_exporter": "python",
   "pygments_lexer": "ipython3",
   "version": "3.6.5"
  }
 },
 "nbformat": 4,
 "nbformat_minor": 2
}
